{
 "cells": [
  {
   "cell_type": "code",
   "execution_count": 2,
   "metadata": {
    "collapsed": true
   },
   "outputs": [],
   "source": [
    "import numpy as np"
   ]
  },
  {
   "cell_type": "code",
   "execution_count": 3,
   "metadata": {},
   "outputs": [],
   "source": [
    "# read model data as numpy format\n",
    "input_folder = \"../../Data/Model_data/train/\"\n",
    "\n",
    "X_train_id = np.load(input_folder + \"X_id.npy\")\n",
    "X_train_name = np.load(input_folder + \"X_name.npy\")\n",
    "X_train_category = np.load(input_folder + \"X_category.npy\")\n",
    "X_train_description = np.load(input_folder + \"X_description.npy\")\n",
    "X_train_shipping =np.load(input_folder + \"X_shipping.npy\")\n",
    "X_train_brand = np.load(input_folder + \"X_brand.npy\")\n",
    "X_train_condition = np.load(input_folder + \"X_condition.npy\")\n",
    "y_log_price = np.load(input_folder + \"y_price.npy\")"
   ]
  },
  {
   "cell_type": "code",
   "execution_count": 7,
   "metadata": {},
   "outputs": [
    {
     "data": {
      "text/plain": [
       "array([3, 3, 1, ..., 2, 3, 1])"
      ]
     },
     "execution_count": 7,
     "metadata": {},
     "output_type": "execute_result"
    }
   ],
   "source": [
    "X_train_condition "
   ]
  },
  {
   "cell_type": "code",
   "execution_count": null,
   "metadata": {
    "collapsed": true
   },
   "outputs": [],
   "source": []
  }
 ],
 "metadata": {
  "kernelspec": {
   "display_name": "Python 2",
   "language": "python",
   "name": "python2"
  },
  "language_info": {
   "codemirror_mode": {
    "name": "ipython",
    "version": 2
   },
   "file_extension": ".py",
   "mimetype": "text/x-python",
   "name": "python",
   "nbconvert_exporter": "python",
   "pygments_lexer": "ipython2",
   "version": "2.7.12"
  }
 },
 "nbformat": 4,
 "nbformat_minor": 1
}
