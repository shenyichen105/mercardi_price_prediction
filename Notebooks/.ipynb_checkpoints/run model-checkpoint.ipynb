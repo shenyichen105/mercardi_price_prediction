{
 "cells": [
  {
   "cell_type": "code",
   "execution_count": 46,
   "metadata": {},
   "outputs": [],
   "source": [
    "import numpy as np\n",
    "import pandas as pd\n",
    "from keras.preprocessing.sequence import pad_sequences\n",
    "from keras.layers import Input, Dropout, Dense, BatchNormalization, Activation, concatenate, GRU, Embedding, Flatten, BatchNormalization\n",
    "from keras.models import Model\n",
    "from keras.callbacks import ModelCheckpoint, Callback, EarlyStopping\n",
    "from keras import backend as K"
   ]
  },
  {
   "cell_type": "code",
   "execution_count": 47,
   "metadata": {
    "collapsed": true
   },
   "outputs": [],
   "source": [
    "# read model data as numpy format\n",
    "input_folder = \"../../Data/Model_data/train/\"\n",
    "\n",
    "X_train_id = np.load(input_folder + \"X_id.npy\")\n",
    "X_train_name = np.load(input_folder + \"X_name.npy\")\n",
    "X_train_category = np.load(input_folder + \"X_category.npy\")\n",
    "X_train_description = np.load(input_folder + \"X_description.npy\")\n",
    "X_train_shipping =np.load(input_folder + \"X_shipping.npy\")\n",
    "X_train_brand = np.load(input_folder + \"X_brand.npy\")\n",
    "X_train_condition = np.load(input_folder + \"X_condition.npy\")\n",
    "y_log_price = np.load(input_folder + \"y_price.npy\")"
   ]
  },
  {
   "cell_type": "code",
   "execution_count": 48,
   "metadata": {},
   "outputs": [],
   "source": [
    "#padd the descirption and name seq to be 0\n",
    "MAX_NAME_LEN = None\n",
    "MAX_DES_LEN = 100\n",
    "\n",
    "X_train_name = pad_sequences(X_train_name, maxlen=MAX_NAME_LEN)\n",
    "X_train_description = pad_sequences(X_train_description, maxlen=MAX_DES_LEN)"
   ]
  },
  {
   "cell_type": "code",
   "execution_count": 49,
   "metadata": {
    "collapsed": true
   },
   "outputs": [],
   "source": [
    "#construct model\n",
    "def rmsle_cust(y_true, y_pred):\n",
    "    first_log = K.log(K.clip(y_pred, K.epsilon(), None) + 1.)\n",
    "    second_log = K.log(K.clip(y_true, K.epsilon(), None) + 1.)\n",
    "    return K.sqrt(K.mean(K.square(first_log - second_log), axis=-1))"
   ]
  },
  {
   "cell_type": "code",
   "execution_count": 50,
   "metadata": {
    "collapsed": true
   },
   "outputs": [],
   "source": [
    "MAX_TEXT = np.max([np.max(X_train_description), np.max(X_train_name)]) + 1\n",
    "MAX_BRAND = np.max(X_train_brand) + 1\n",
    "MAX_CATEGORY = np.max(X_train_category) + 1\n",
    "MAX_CONDITION = np.max(X_train_condition) + 1"
   ]
  },
  {
   "cell_type": "code",
   "execution_count": 51,
   "metadata": {},
   "outputs": [
    {
     "data": {
      "text/plain": [
       "3003"
      ]
     },
     "execution_count": 51,
     "metadata": {},
     "output_type": "execute_result"
    }
   ],
   "source": [
    "MAX_BRAND"
   ]
  },
  {
   "cell_type": "code",
   "execution_count": 52,
   "metadata": {},
   "outputs": [
    {
     "data": {
      "text/plain": [
       "(1482535, 100)"
      ]
     },
     "execution_count": 52,
     "metadata": {},
     "output_type": "execute_result"
    }
   ],
   "source": [
    "X_train_description.shape"
   ]
  },
  {
   "cell_type": "markdown",
   "metadata": {},
   "source": [
    "Basic GRU model"
   ]
  },
  {
   "cell_type": "code",
   "execution_count": 62,
   "metadata": {},
   "outputs": [],
   "source": [
    "#params\n",
    "dr_r = 0.5\n",
    "    \n",
    "#Inputs\n",
    "name = Input(shape=[X_train_name.shape[1]], name = \"name\")\n",
    "item_desc = Input(shape=[X_train_description.shape[1]], name=\"item_desc\")\n",
    "brand_name = Input(shape=[1], name=\"brand_name\")\n",
    "category_name = Input(shape=[1], name=\"category_name\")\n",
    "item_condition = Input(shape=[1], name=\"item_condition\")\n",
    "shipping = Input(shape=[1], name=\"shipping\")\n",
    "    \n",
    "#Embeddings layers\n",
    "word_emb = Embedding(MAX_TEXT, 50, mask_zero = True)\n",
    "\n",
    "emb_name = word_emb(name)\n",
    "emb_item_desc = word_emb(item_desc)\n",
    "\n",
    "emb_brand_name = Embedding(MAX_BRAND, 8)(brand_name)\n",
    "emb_category_name = Embedding(MAX_CATEGORY, 8)(category_name)\n",
    "emb_item_condition = Embedding(MAX_CONDITION, 5)(item_condition)\n",
    "    \n",
    "#rnn layer\n",
    "rnn_layer1 = GRU(16) (emb_item_desc)\n",
    "rnn_layer2 = GRU(12) (emb_name)\n",
    "    \n",
    "#main layer\n",
    "main_l = concatenate([\n",
    "        Flatten() (emb_brand_name)\n",
    "        , Flatten() (emb_category_name)\n",
    "        , Flatten() (emb_item_condition)\n",
    "        , rnn_layer1\n",
    "        , rnn_layer2\n",
    "        , shipping\n",
    "    ])\n",
    "main_l = Dropout(dr_r) (Dense(128) (main_l))\n",
    "main_l = Dropout(dr_r) (Dense(64) (main_l))\n",
    "    \n",
    "#output\n",
    "output = Dense(1, activation=\"linear\") (main_l)\n",
    "    \n",
    "#model\n",
    "model = Model([name, item_desc, brand_name\n",
    "                   , category_name, item_condition, shipping], output)\n",
    "model.compile(loss='mse', optimizer=\"adam\", metrics=[\"mae\"])"
   ]
  },
  {
   "cell_type": "code",
   "execution_count": 64,
   "metadata": {},
   "outputs": [
    {
     "name": "stdout",
     "output_type": "stream",
     "text": [
      "____________________________________________________________________________________________________\n",
      "Layer (type)                     Output Shape          Param #     Connected to                     \n",
      "====================================================================================================\n",
      "brand_name (InputLayer)          (None, 1)             0                                            \n",
      "____________________________________________________________________________________________________\n",
      "category_name (InputLayer)       (None, 1)             0                                            \n",
      "____________________________________________________________________________________________________\n",
      "item_condition (InputLayer)      (None, 1)             0                                            \n",
      "____________________________________________________________________________________________________\n",
      "item_desc (InputLayer)           (None, 100)           0                                            \n",
      "____________________________________________________________________________________________________\n",
      "name (InputLayer)                (None, 21)            0                                            \n",
      "____________________________________________________________________________________________________\n",
      "embedding_18 (Embedding)         (None, 1, 8)          24024                                        \n",
      "____________________________________________________________________________________________________\n",
      "embedding_19 (Embedding)         (None, 1, 8)          8632                                         \n",
      "____________________________________________________________________________________________________\n",
      "embedding_20 (Embedding)         (None, 1, 5)          25                                           \n",
      "____________________________________________________________________________________________________\n",
      "embedding_17 (Embedding)         multiple              973500                                       \n",
      "____________________________________________________________________________________________________\n",
      "flatten_13 (Flatten)             (None, 8)             0                                            \n",
      "____________________________________________________________________________________________________\n",
      "flatten_14 (Flatten)             (None, 8)             0                                            \n",
      "____________________________________________________________________________________________________\n",
      "flatten_15 (Flatten)             (None, 5)             0                                            \n",
      "____________________________________________________________________________________________________\n",
      "gru_9 (GRU)                      (None, 16)            3216                                         \n",
      "____________________________________________________________________________________________________\n",
      "gru_10 (GRU)                     (None, 12)            2268                                         \n",
      "____________________________________________________________________________________________________\n",
      "shipping (InputLayer)            (None, 1)             0                                            \n",
      "____________________________________________________________________________________________________\n",
      "concatenate_5 (Concatenate)      (None, 50)            0                                            \n",
      "____________________________________________________________________________________________________\n",
      "dense_13 (Dense)                 (None, 128)           6528                                         \n",
      "____________________________________________________________________________________________________\n",
      "dropout_9 (Dropout)              (None, 128)           0                                            \n",
      "____________________________________________________________________________________________________\n",
      "dense_14 (Dense)                 (None, 64)            8256                                         \n",
      "____________________________________________________________________________________________________\n",
      "dropout_10 (Dropout)             (None, 64)            0                                            \n",
      "____________________________________________________________________________________________________\n",
      "dense_15 (Dense)                 (None, 1)             65                                           \n",
      "====================================================================================================\n",
      "Total params: 1,026,514.0\n",
      "Trainable params: 1,026,514.0\n",
      "Non-trainable params: 0.0\n",
      "____________________________________________________________________________________________________\n"
     ]
    }
   ],
   "source": [
    "model.summary()"
   ]
  },
  {
   "cell_type": "code",
   "execution_count": 65,
   "metadata": {},
   "outputs": [],
   "source": [
    "#split train and validation data\n",
    "train_percent = 0.9\n",
    "shuffled_idx = np.arange(X_train_id.shape[0])\n",
    "np.random.shuffle(shuffled_idx)\n",
    "\n",
    "train_idx = shuffled_idx[:int(X_train_id.shape[0] * 0.9)]\n",
    "valid_idx = shuffled_idx[int(X_train_id.shape[0] * 0.9):]\n",
    "\n",
    "X = [X_train_name,  X_train_description, X_train_brand, X_train_category, \\\n",
    "      X_train_condition, X_train_shipping]\n",
    "\n",
    "X_train = [arr[train_idx] for arr in X]\n",
    "X_valid = [arr[valid_idx] for arr in X]\n",
    "\n",
    "y_train = y_log_price[train_idx]\n",
    "y_valid = y_log_price[valid_idx]"
   ]
  },
  {
   "cell_type": "code",
   "execution_count": 66,
   "metadata": {},
   "outputs": [
    {
     "name": "stdout",
     "output_type": "stream",
     "text": [
      "Train on 1334281 samples, validate on 148254 samples\n",
      "Epoch 1/10\n",
      "1334281/1334281 [==============================] - 1140s - loss: 2.3836 - mean_absolute_error: 1.1939 - val_loss: 0.3430 - val_mean_absolute_error: 0.4422\n",
      "Epoch 2/10\n",
      "1334281/1334281 [==============================] - 1093s - loss: 0.6061 - mean_absolute_error: 0.6063 - val_loss: 0.2810 - val_mean_absolute_error: 0.3963\n",
      "Epoch 3/10\n",
      "1334281/1334281 [==============================] - 809s - loss: 0.5265 - mean_absolute_error: 0.5641 - val_loss: 0.2642 - val_mean_absolute_error: 0.3837\n",
      "Epoch 4/10\n",
      "1334281/1334281 [==============================] - 770s - loss: 0.4929 - mean_absolute_error: 0.5451 - val_loss: 0.2569 - val_mean_absolute_error: 0.3779\n",
      "Epoch 5/10\n",
      "1334281/1334281 [==============================] - 809s - loss: 0.4728 - mean_absolute_error: 0.5333 - val_loss: 0.2514 - val_mean_absolute_error: 0.3738\n",
      "Epoch 6/10\n",
      "1334281/1334281 [==============================] - 1024s - loss: 0.4579 - mean_absolute_error: 0.5246 - val_loss: 0.2484 - val_mean_absolute_error: 0.3716\n",
      "Epoch 7/10\n",
      "1334281/1334281 [==============================] - 1167s - loss: 0.4444 - mean_absolute_error: 0.5162 - val_loss: 0.2433 - val_mean_absolute_error: 0.3681\n",
      "Epoch 8/10\n",
      "1334281/1334281 [==============================] - 1078s - loss: 0.4278 - mean_absolute_error: 0.5066 - val_loss: 0.2317 - val_mean_absolute_error: 0.3598\n",
      "Epoch 9/10\n",
      "1334281/1334281 [==============================] - 764s - loss: 0.4136 - mean_absolute_error: 0.4978 - val_loss: 0.2304 - val_mean_absolute_error: 0.3587\n",
      "Epoch 10/10\n",
      "1334281/1334281 [==============================] - 762s - loss: 0.4030 - mean_absolute_error: 0.4911 - val_loss: 0.2274 - val_mean_absolute_error: 0.3564\n"
     ]
    }
   ],
   "source": [
    "BATCH_SIZE = 20000\n",
    "epochs = 10\n",
    "\n",
    "history = model.fit(X_train, y_train, epochs=epochs, shuffle = True, batch_size=BATCH_SIZE\n",
    "          , validation_data=(X_valid, y_valid)\n",
    "          , verbose=1)"
   ]
  },
  {
   "cell_type": "code",
   "execution_count": 67,
   "metadata": {},
   "outputs": [
    {
     "name": "stderr",
     "output_type": "stream",
     "text": [
      "/Users/yichenshen/anaconda/lib/python2.7/site-packages/keras/engine/topology.py:2248: UserWarning: Layer gru_9 was passed non-serializable keyword arguments: {'mask': <tf.Tensor 'embedding_17_1/NotEqual:0' shape=(?, 100) dtype=bool>}. They will not be included in the serialized model (and thus will be missing at deserialization time).\n",
      "  str(node.arguments) + '. They will not be included '\n",
      "/Users/yichenshen/anaconda/lib/python2.7/site-packages/keras/engine/topology.py:2248: UserWarning: Layer gru_10 was passed non-serializable keyword arguments: {'mask': <tf.Tensor 'embedding_17/NotEqual:0' shape=(?, 21) dtype=bool>}. They will not be included in the serialized model (and thus will be missing at deserialization time).\n",
      "  str(node.arguments) + '. They will not be included '\n"
     ]
    }
   ],
   "source": [
    "#save trained model\n",
    "out_folder = \"../Saved_models/\"\n",
    "model.save(out_folder + \"model1.h5\")"
   ]
  },
  {
   "cell_type": "code",
   "execution_count": 71,
   "metadata": {},
   "outputs": [],
   "source": [
    "val_preds = model.predict(X_valid)\n",
    "val_preds = np.exp(val_preds)-1"
   ]
  },
  {
   "cell_type": "code",
   "execution_count": 73,
   "metadata": {},
   "outputs": [
    {
     "name": "stdout",
     "output_type": "stream",
     "text": [
      " RMSLE error on dev test: 0.476860351667\n"
     ]
    }
   ],
   "source": [
    "y_true = np.exp(y_valid) - 1\n",
    "y_pred = val_preds[:,0]\n",
    "\n",
    "import math\n",
    "def rmsle(y, y_pred):\n",
    "    assert len(y) == len(y_pred)\n",
    "    to_sum = [(math.log(y_pred[i] + 1) - math.log(y[i] + 1)) ** 2.0 for i,pred in enumerate(y_pred)]\n",
    "    return (sum(to_sum) * (1.0/len(y))) ** 0.5\n",
    "\n",
    "v_rmsle = rmsle(y_true, y_pred)\n",
    "print(\" RMSLE error on dev test: \"+str(v_rmsle))"
   ]
  },
  {
   "cell_type": "code",
   "execution_count": null,
   "metadata": {
    "collapsed": true
   },
   "outputs": [],
   "source": []
  }
 ],
 "metadata": {
  "kernelspec": {
   "display_name": "Python 2",
   "language": "python",
   "name": "python2"
  },
  "language_info": {
   "codemirror_mode": {
    "name": "ipython",
    "version": 2
   },
   "file_extension": ".py",
   "mimetype": "text/x-python",
   "name": "python",
   "nbconvert_exporter": "python",
   "pygments_lexer": "ipython2",
   "version": "2.7.12"
  }
 },
 "nbformat": 4,
 "nbformat_minor": 1
}
