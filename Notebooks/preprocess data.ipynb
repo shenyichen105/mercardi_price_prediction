{
 "cells": [
  {
   "cell_type": "code",
   "execution_count": 1,
   "metadata": {
    "collapsed": true
   },
   "outputs": [],
   "source": [
    "import pandas as pd\n",
    "import numpy as np"
   ]
  },
  {
   "cell_type": "code",
   "execution_count": 2,
   "metadata": {
    "collapsed": true
   },
   "outputs": [],
   "source": [
    "from sklearn.preprocessing import LabelEncoder"
   ]
  },
  {
   "cell_type": "code",
   "execution_count": 3,
   "metadata": {
    "collapsed": true
   },
   "outputs": [],
   "source": [
    "#load data\n",
    "data_folder = \"../../Data/Tsv_data/\"\n",
    "train_file = \"train.tsv\"\n",
    "test_file = \"test.tsv\"\n",
    "train_data = pd.read_csv(data_folder + train_file, delimiter = \"\\t\") \n",
    "#test_data = pd.read_csv(data_folder + test_file, delimiter = \"\\t\") "
   ]
  },
  {
   "cell_type": "markdown",
   "metadata": {},
   "source": [
    "Tokenize and serialize words for item description and names"
   ]
  },
  {
   "cell_type": "code",
   "execution_count": 4,
   "metadata": {
    "collapsed": true
   },
   "outputs": [],
   "source": [
    "#replace some special strings rm\n",
    "train_data[\"name\"] = train_data[\"name\"].str.replace(\"\\[rm\\]\", \"special_rm\")\n",
    "train_data[\"item_description\"] = train_data[\"item_description\"].str.replace(\"\\[rm\\]\", \"special_rm\")"
   ]
  },
  {
   "cell_type": "code",
   "execution_count": 5,
   "metadata": {
    "collapsed": true
   },
   "outputs": [],
   "source": [
    "#tokenize\n",
    "from nltk.tokenize import TweetTokenizer, word_tokenize\n",
    "tknzr = TweetTokenizer(preserve_case=False, strip_handles=False, reduce_len=True)"
   ]
  },
  {
   "cell_type": "code",
   "execution_count": 6,
   "metadata": {},
   "outputs": [
    {
     "name": "stdout",
     "output_type": "stream",
     "text": [
      "begin tokenizing names and items...\n",
      "finished tokenizing\n"
     ]
    }
   ],
   "source": [
    "print \"begin tokenizing names and items...\"\n",
    "\n",
    "train_data[\"name\"]\n",
    "\n",
    "splitted_names = train_data[\"name\"].apply(lambda x: tknzr.tokenize(unicode(x, \"utf-8\")))\n",
    "splitted_description = train_data[\"item_description\"].apply(lambda x: [] if pd.isnull(x) \\\n",
    "                                                            else tknzr.tokenize(unicode(x, \"utf-8\")))\n",
    "\n",
    "print \"finished tokenizing\""
   ]
  },
  {
   "cell_type": "code",
   "execution_count": 7,
   "metadata": {
    "collapsed": true
   },
   "outputs": [],
   "source": [
    "#make a bag of words dictionary \n",
    "from collections import Counter\n",
    "all_words = Counter()\n",
    "\n",
    "def add_words_to_dict(wlist):\n",
    "    for w in wlist:\n",
    "        all_words[w] +=1\n",
    "        \n",
    "_ = splitted_names.apply(lambda x: add_words_to_dict(x))\n",
    "_ = splitted_description.apply(lambda x: add_words_to_dict(x))"
   ]
  },
  {
   "cell_type": "code",
   "execution_count": 8,
   "metadata": {
    "collapsed": true
   },
   "outputs": [],
   "source": [
    "# create index for each word appeared greater than 50 times\n",
    "# for rare words =, substitute with special_rare\n",
    "# for missing , substitute with  special_missing\n",
    "\n",
    "all_words_usable = {}\n",
    "threshold = 50\n",
    "idx = 1\n",
    "for key, value in all_words.iteritems():\n",
    "    if value > threshold:\n",
    "        all_words_usable[key] = idx\n",
    "        idx +=1\n",
    "#add special words\n",
    "all_words_usable[\"special_rare\"] = idx\n",
    "all_words_usable[\"special_missing\"] = idx + 1"
   ]
  },
  {
   "cell_type": "code",
   "execution_count": 9,
   "metadata": {
    "collapsed": true
   },
   "outputs": [],
   "source": [
    "#substitue words with index\n",
    "def serialize_word_list(x):\n",
    "    if len(x) == 0:\n",
    "        return [all_words_usable[\"special_missing\"]]\n",
    "    else:\n",
    "        return [all_words_usable[w] if w in all_words_usable\\\n",
    "                else all_words_usable[\"special_rare\"] for w in x]\n",
    "    \n",
    "splitted_names_seq =  splitted_names.apply(lambda x: serialize_word_list(x))\n",
    "splitted_description_seq =  splitted_description.apply(lambda x: serialize_word_list(x))"
   ]
  },
  {
   "cell_type": "markdown",
   "metadata": {},
   "source": [
    "categorize item_condition, brand name and category_name"
   ]
  },
  {
   "cell_type": "code",
   "execution_count": 10,
   "metadata": {
    "collapsed": true
   },
   "outputs": [],
   "source": [
    "train_data[\"item_condition_id\"] = train_data[\"item_condition_id\"] - 1\n",
    "#using all categories (if category appearance < 5 then defined this category as rare)\n",
    "#more refined treatment can be tested\n",
    "rare_threshold = 5\n",
    "categories = train_data[\"category_name\"].copy()\n",
    "#missing value replaced by special token\n",
    "categories[categories.isnull()] = \"special_missing\"\n",
    "categories_counts = categories.value_counts()\n",
    "rare_cates = categories_counts[categories_counts < rare_threshold].index.values"
   ]
  },
  {
   "cell_type": "code",
   "execution_count": 11,
   "metadata": {
    "collapsed": true
   },
   "outputs": [],
   "source": [
    "categories[categories.isin(rare_cates)] = \"special_rare\""
   ]
  },
  {
   "cell_type": "code",
   "execution_count": 12,
   "metadata": {
    "collapsed": true
   },
   "outputs": [],
   "source": [
    "#treat brandname similar to categories\n",
    "brand_name = train_data[\"brand_name\"].copy()\n",
    "brand_name[brand_name.isnull()] = \"special_missing\""
   ]
  },
  {
   "cell_type": "code",
   "execution_count": 13,
   "metadata": {
    "collapsed": true
   },
   "outputs": [],
   "source": [
    "rare_threshold = 3\n",
    "brand_counts = brand_name.value_counts()\n",
    "rare_brands = brand_counts[brand_counts < rare_threshold].index.values\n",
    "brand_name[brand_name.isin(rare_brands)] = \"special_rare\""
   ]
  },
  {
   "cell_type": "code",
   "execution_count": 14,
   "metadata": {
    "collapsed": true
   },
   "outputs": [],
   "source": [
    "le = LabelEncoder()\n",
    "categories_clean = le.fit_transform(categories)\n",
    "brand_name_clean = le.fit_transform(brand_name)\n",
    "item_condition_id = train_data[\"item_condition_id\"].values\n",
    "item_id = train_data[\"train_id\"].values\n",
    "shipping = train_data[\"shipping\"].values\n",
    "price = np.log(train_data[\"price\"].values + 1)"
   ]
  },
  {
   "cell_type": "markdown",
   "metadata": {},
   "source": [
    "Save all the cleaned data to a folder"
   ]
  },
  {
   "cell_type": "code",
   "execution_count": 15,
   "metadata": {
    "collapsed": true
   },
   "outputs": [],
   "source": [
    "output_folder = \"../../Data/Model_data/train/\"\n",
    "\n",
    "np.save(output_folder + \"X_name\", splitted_names_seq.values)\n",
    "np.save(output_folder + \"X_description\", splitted_description_seq.values)\n",
    "np.save(output_folder + \"X_category\", categories_clean)\n",
    "np.save(output_folder + \"X_brand\", brand_name_clean)\n",
    "np.save(output_folder + \"X_condition\", item_condition_id)\n",
    "np.save(output_folder + \"X_id\", item_id)\n",
    "np.save(output_folder + \"X_shipping\", shipping)\n",
    "np.save(output_folder + \"y_price\", price)"
   ]
  },
  {
   "cell_type": "code",
   "execution_count": null,
   "metadata": {
    "collapsed": true
   },
   "outputs": [],
   "source": []
  }
 ],
 "metadata": {
  "anaconda-cloud": {},
  "kernelspec": {
   "display_name": "Python 2",
   "language": "python",
   "name": "python2"
  },
  "language_info": {
   "codemirror_mode": {
    "name": "ipython",
    "version": 2
   },
   "file_extension": ".py",
   "mimetype": "text/x-python",
   "name": "python",
   "nbconvert_exporter": "python",
   "pygments_lexer": "ipython2",
   "version": "2.7.12"
  }
 },
 "nbformat": 4,
 "nbformat_minor": 1
}
