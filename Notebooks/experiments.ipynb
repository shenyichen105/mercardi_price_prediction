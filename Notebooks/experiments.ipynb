{
 "cells": [
  {
   "cell_type": "code",
   "execution_count": 8,
   "metadata": {
    "collapsed": true
   },
   "outputs": [],
   "source": [
    "import numpy as np"
   ]
  },
  {
   "cell_type": "code",
   "execution_count": 9,
   "metadata": {},
   "outputs": [],
   "source": [
    "# read model data as numpy format\n",
    "input_folder = \"../../Data/Model_data/train/\"\n",
    "\n",
    "X_train_id = np.load(input_folder + \"X_id.npy\")\n",
    "X_train_name = np.load(input_folder + \"X_name.npy\")\n",
    "X_train_category = np.load(input_folder + \"X_category.npy\")\n",
    "X_train_description = np.load(input_folder + \"X_description.npy\")\n",
    "X_train_shipping =np.load(input_folder + \"X_shipping.npy\")\n",
    "X_train_brand = np.load(input_folder + \"X_brand.npy\")\n",
    "X_train_condition = np.load(input_folder + \"X_condition.npy\")\n",
    "y_log_price = np.load(input_folder + \"y_price.npy\")"
   ]
  },
  {
   "cell_type": "code",
   "execution_count": 11,
   "metadata": {},
   "outputs": [
    {
     "data": {
      "text/plain": [
       "array([ 2.39789527,  3.97029191,  2.39789527, ...,  2.56494936,\n",
       "        3.8286414 ,  3.13549422])"
      ]
     },
     "execution_count": 11,
     "metadata": {},
     "output_type": "execute_result"
    }
   ],
   "source": [
    "y_log_price"
   ]
  },
  {
   "cell_type": "code",
   "execution_count": 13,
   "metadata": {},
   "outputs": [],
   "source": [
    "lengths = [len(w) for w in X_train_name]"
   ]
  },
  {
   "cell_type": "code",
   "execution_count": 16,
   "metadata": {},
   "outputs": [
    {
     "data": {
      "text/plain": [
       "21"
      ]
     },
     "execution_count": 16,
     "metadata": {},
     "output_type": "execute_result"
    }
   ],
   "source": [
    "max(lengths)"
   ]
  },
  {
   "cell_type": "code",
   "execution_count": null,
   "metadata": {
    "collapsed": true
   },
   "outputs": [],
   "source": []
  }
 ],
 "metadata": {
  "kernelspec": {
   "display_name": "Python 2",
   "language": "python",
   "name": "python2"
  },
  "language_info": {
   "codemirror_mode": {
    "name": "ipython",
    "version": 2
   },
   "file_extension": ".py",
   "mimetype": "text/x-python",
   "name": "python",
   "nbconvert_exporter": "python",
   "pygments_lexer": "ipython2",
   "version": "2.7.12"
  }
 },
 "nbformat": 4,
 "nbformat_minor": 1
}
